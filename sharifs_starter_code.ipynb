{
 "cells": [
  {
   "cell_type": "code",
   "execution_count": null,
   "metadata": {},
   "outputs": [],
   "source": [
    "## Sharif's Starter Code, insert your key in url where it says 'YOUR_KEY_HERE'\n",
    "\n",
    "import pandas as pd\n",
    "import requests\n",
    "import matplotlib.pyplot as plt\n",
    "import seaborn as sns\n",
    "\n",
    "def get_file(url):\n",
    "    result = requests.get(url).json()\n",
    "    final = pd.DataFrame(result)\n",
    "    return final\n",
    "\n",
    "#SETTING API SOURCES\n",
    "c_summary = get_file(\"https://api.census.gov/data/2018/abscs?get=NAME,GEO_ID,NAICS2017_LABEL,EMP,PAYANN,RCPPDEMP,YIBSZFI,YIBSZFI_LABEL,SEX,SEX_LABEL,ETH_GROUP,ETH_GROUP_LABEL,RACE_GROUP,RACE_GROUP_LABEL,VET_GROUP,VET_GROUP_LABEL,FIRMPDEMP&for=state:*&NAICS2017=00&key=YOUR_KEY_HERE\")\n",
    "char_business = get_file(\"https://api.census.gov/data/2018/abscb?get=NAME,GEO_ID,NAICS2017_LABEL,EMP,PAYANN,RCPPDEMP,SEX,SEX_LABEL,ETH_GROUP,ETH_GROUP_LABEL,RACE_GROUP,RACE_GROUP_LABEL,VET_GROUP,VET_GROUP_LABEL,FIRMPDEMP&for=state:*&NAICS2017=00&BUSCHAR=A1&QDESC=B01&key=YOUR_KEY_HERE\")\n",
    "char_business_owners = get_file(\"https://api.census.gov/data/2018/abscbo?get=NAME,GEO_ID,NAICS2017_LABEL,OWNER_SEX,OWNER_SEX_LABEL,OWNER_ETH,OWNER_ETH_LABEL,OWNER_RACE,OWNER_RACE_LABEL,OWNER_VET,OWNER_VET_LABEL,OWNPDEMP&for=state:*&OWNCHAR=CG&NAICS2017=00&QDESC=O02&key=YOUR_KEY_HERE\")\n",
    "tech_char = get_file(\"https://api.census.gov/data/2018/abstcb?get=NAME,GEO_ID,NAICS2017_LABEL,EMP,FACTORS_P,IMPACTWF_P_LABEL,IMPACTWF_U_LABEL,FACTORS_U,PAYANN,MOTUSETECH,MOTUSETECH_LABEL,SEX,SEX_LABEL,ETH_GROUP,ETH_GROUP_LABEL,RACE_GROUP,RACE_GROUP_LABEL,VET_GROUP,VET_GROUP_LABEL,TECHUSE,TECHUSE_LABEL,FIRMPDEMP&for=state:*&NAICS2017=00&key=YOUR_KEY_HERE\")\n",
    "\n",
    "#REPLACING COLUMNS WITH 1ST ROW NAMES\n",
    "c_summary.columns = c_summary.iloc[0]\n",
    "char_business.columns = char_business.iloc[0]\n",
    "char_business_owners.columns = char_business_owners.iloc[0]\n",
    "tech_char.columns = tech_char.iloc[0]\n",
    "\n",
    "#REMOVING UNESSECARY ROW AFTER RENAMING COLUMNS\n",
    "c_summary = c_summary.drop(c_summary.index[0])\n",
    "char_business = char_business.drop(char_business.index[0])\n",
    "char_business_owners = char_business_owners.drop(char_business_owners.index[0])\n",
    "tech_char = tech_char.drop(tech_char.index[0])\n"
   ]
  }
 ],
 "metadata": {
  "language_info": {
   "name": "python"
  },
  "orig_nbformat": 4
 },
 "nbformat": 4,
 "nbformat_minor": 2
}
